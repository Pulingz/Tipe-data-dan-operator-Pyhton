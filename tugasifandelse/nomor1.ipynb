{
 "cells": [
  {
   "cell_type": "code",
   "execution_count": null,
   "metadata": {},
   "outputs": [],
   "source": [
    "tinggi = int(input(\"berapa tinggi Anda dalam cm : \"))\n",
    "if tinggi < 115:\n",
    "    print(\"Maka Anda Adalah Kuntet \")\n",
    "    print(\"Maka Anda Pendek\")\n",
    "    \n",
    "print('Maka Anda Ketinggian')"
   ]
  },
  {
   "cell_type": "code",
   "execution_count": null,
   "metadata": {},
   "outputs": [],
   "source": [
    "tinggi = int(input(\"berapa tinggi Anda dalam cm : \"))\n",
    "\n",
    "if tinggi >150:\n",
    "    print(\"MAka Kamu Ketinggian\")\n",
    "if tinggi <150:\n",
    "    print(\"Maka Kamu Kependekan Atau Kuntet\")\n",
    "    \n",
    "print(\"Maka Kamu Perlu Olahraga\")\n",
    "print(\"Maka Kamu Harus sungguh sungguh olaharag\")"
   ]
  }
 ],
 "metadata": {
  "kernelspec": {
   "display_name": "Python 3",
   "language": "python",
   "name": "python3"
  },
  "language_info": {
   "codemirror_mode": {
    "name": "ipython",
    "version": 3
   },
   "file_extension": ".py",
   "mimetype": "text/x-python",
   "name": "python",
   "nbconvert_exporter": "python",
   "pygments_lexer": "ipython3",
   "version": "3.8.5"
  }
 },
 "nbformat": 4,
 "nbformat_minor": 4
}
