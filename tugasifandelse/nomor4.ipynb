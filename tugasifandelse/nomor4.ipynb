{
 "cells": [
  {
   "cell_type": "code",
   "execution_count": 1,
   "metadata": {},
   "outputs": [
    {
     "name": "stdout",
     "output_type": "stream",
     "text": [
      "pilihan Makanan Favorit Anda Adalah yang ke :2\n",
      "Makanan Favorit Anda Adalah : kebab\n"
     ]
    }
   ],
   "source": [
    "makananfavorit = {\n",
    "    1 : 'pizza',\n",
    "    2: 'kebab',\n",
    "    3: 'burger',\n",
    "    4: 'seblaq'\n",
    "}\n",
    "\n",
    "makanan = int(input('pilihan Makanan Favorit Anda Adalah yang ke :'))\n",
    "print('Makanan Favorit Anda Adalah :', makananfavorit.get(makanan,'salah'))"
   ]
  }
 ],
 "metadata": {
  "kernelspec": {
   "display_name": "Python 3",
   "language": "python",
   "name": "python3"
  },
  "language_info": {
   "codemirror_mode": {
    "name": "ipython",
    "version": 3
   },
   "file_extension": ".py",
   "mimetype": "text/x-python",
   "name": "python",
   "nbconvert_exporter": "python",
   "pygments_lexer": "ipython3",
   "version": "3.8.5"
  }
 },
 "nbformat": 4,
 "nbformat_minor": 4
}
