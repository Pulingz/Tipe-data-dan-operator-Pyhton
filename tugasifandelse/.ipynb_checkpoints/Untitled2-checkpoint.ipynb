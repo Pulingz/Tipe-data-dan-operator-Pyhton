{
 "cells": [
  {
   "cell_type": "code",
   "execution_count": null,
   "metadata": {},
   "outputs": [
    {
     "name": "stdout",
     "output_type": "stream",
     "text": [
      "Selamat Datang di The Roller Coaster\n"
     ]
    }
   ],
   "source": [
    "print (\"Selamat Datang di The Roller Coaster\")\n",
    "height = int (input (\"berapa ukuran Anda dalam cm:\"))\n",
    "\n",
    "if tinggi <115:\n",
    "    print (\"Kamu bisa naik roller coaster\")\n",
    "elif tinggi <120:\n",
    "    print (\"tes\")\n",
    "elif tinggi <150:\n",
    "    print (\"horeee\")\n",
    "else:\n",
    "    print (\"Anda tidak bisa naik roller coaster\")"
   ]
  },
  {
   "cell_type": "code",
   "execution_count": null,
   "metadata": {},
   "outputs": [],
   "source": []
  }
 ],
 "metadata": {
  "kernelspec": {
   "display_name": "Python 3",
   "language": "python",
   "name": "python3"
  },
  "language_info": {
   "codemirror_mode": {
    "name": "ipython",
    "version": 3
   },
   "file_extension": ".py",
   "mimetype": "text/x-python",
   "name": "python",
   "nbconvert_exporter": "python",
   "pygments_lexer": "ipython3",
   "version": "3.8.5"
  }
 },
 "nbformat": 4,
 "nbformat_minor": 4
}
