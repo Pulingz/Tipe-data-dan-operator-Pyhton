{
 "cells": [
  {
   "cell_type": "code",
   "execution_count": 14,
   "metadata": {},
   "outputs": [
    {
     "name": "stdout",
     "output_type": "stream",
     "text": [
      "528\n"
     ]
    }
   ],
   "source": [
    "buku=101010\n",
    "pulpen=10001\n",
    "pensil=buku & pulpen\n",
    "print(pensil)"
   ]
  },
  {
   "cell_type": "code",
   "execution_count": 15,
   "metadata": {},
   "outputs": [
    {
     "name": "stdout",
     "output_type": "stream",
     "text": [
      "100261\n"
     ]
    }
   ],
   "source": [
    "buku=100001\n",
    "pulpen=100101\n",
    "pensil=buku | pulpen\n",
    "print(pensil)"
   ]
  },
  {
   "cell_type": "code",
   "execution_count": 16,
   "metadata": {},
   "outputs": [
    {
     "name": "stdout",
     "output_type": "stream",
     "text": [
      "14067\n"
     ]
    }
   ],
   "source": [
    "buku=111100\n",
    "pulpen=100111\n",
    "pensil=buku ^ pulpen\n",
    "print(pensil)"
   ]
  },
  {
   "cell_type": "code",
   "execution_count": 18,
   "metadata": {},
   "outputs": [
    {
     "data": {
      "text/plain": [
       "-101011"
      ]
     },
     "execution_count": 18,
     "metadata": {},
     "output_type": "execute_result"
    }
   ],
   "source": [
    "pulpen=101010\n",
    "~pulpen"
   ]
  },
  {
   "cell_type": "code",
   "execution_count": 21,
   "metadata": {},
   "outputs": [
    {
     "name": "stdout",
     "output_type": "stream",
     "text": [
      "13596568275784352351266287797876260453820973407786762942982681893975409058469960905692597475290768152890876841216801230858513764268778164901126703891143429350607649262905796722114647008308845411497603997686749399689311234207902086509908641318235283461156535492052519184079978888073185239207232023312620842125932614097739343296909541376\n"
     ]
    }
   ],
   "source": [
    "buku=1001\n",
    "pulpen=1100\n",
    "pensil=buku << pulpen\n",
    "print(pensil)\n"
   ]
  },
  {
   "cell_type": "code",
   "execution_count": 22,
   "metadata": {},
   "outputs": [
    {
     "name": "stdout",
     "output_type": "stream",
     "text": [
      "0\n"
     ]
    }
   ],
   "source": [
    "buku=1007\n",
    "pulpen=1800\n",
    "pensil=buku >> pulpen\n",
    "print(pensil)"
   ]
  }
 ],
 "metadata": {
  "kernelspec": {
   "display_name": "Python 3",
   "language": "python",
   "name": "python3"
  },
  "language_info": {
   "codemirror_mode": {
    "name": "ipython",
    "version": 3
   },
   "file_extension": ".py",
   "mimetype": "text/x-python",
   "name": "python",
   "nbconvert_exporter": "python",
   "pygments_lexer": "ipython3",
   "version": "3.8.5"
  }
 },
 "nbformat": 4,
 "nbformat_minor": 4
}
