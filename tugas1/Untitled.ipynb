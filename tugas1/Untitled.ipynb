{
 "cells": [
  {
   "cell_type": "code",
   "execution_count": 7,
   "metadata": {},
   "outputs": [
    {
     "ename": "SyntaxError",
     "evalue": "invalid syntax (<ipython-input-7-30de6f7dd1ec>, line 12)",
     "output_type": "error",
     "traceback": [
      "\u001b[1;36m  File \u001b[1;32m\"<ipython-input-7-30de6f7dd1ec>\"\u001b[1;36m, line \u001b[1;32m12\u001b[0m\n\u001b[1;33m    print('Operator AND         :',(a4)\u001b[0m\n\u001b[1;37m    ^\u001b[0m\n\u001b[1;31mSyntaxError\u001b[0m\u001b[1;31m:\u001b[0m invalid syntax\n"
     ]
    }
   ],
   "source": [
    "a1=0b101\n",
    "a2=0b111\n",
    "a3=a1 | a2\n",
    "a4=a1 & a2\n",
    "a5=a1 ^ a2\n",
    "a6=~a1\n",
    "a7=a1 << 1\n",
    "a8=a1 << 3\n",
    "a9=a1 >> 1\n",
    "a10=a1 >> 3\n",
    "print('Operator OR          :',(a3)\n",
    "print('Operator AND         :',(a4)\n",
    "print('Operator XOR         :',(a5)\n",
    "print('Operator Left Shift 1:',(a6)\n",
    "print('Operator Left Shift 3:',(a7)\n",
    "print('Operator Righ Shift 1:',(a8)\n",
    "print('Operator Righ Shift 3:',(a9)"
   ]
  },
  {
   "cell_type": "code",
   "execution_count": null,
   "metadata": {},
   "outputs": [],
   "source": []
  }
 ],
 "metadata": {
  "kernelspec": {
   "display_name": "Python 3",
   "language": "python",
   "name": "python3"
  },
  "language_info": {
   "codemirror_mode": {
    "name": "ipython",
    "version": 3
   },
   "file_extension": ".py",
   "mimetype": "text/x-python",
   "name": "python",
   "nbconvert_exporter": "python",
   "pygments_lexer": "ipython3",
   "version": "3.8.5"
  }
 },
 "nbformat": 4,
 "nbformat_minor": 4
}
